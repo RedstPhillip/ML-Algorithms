{
 "cells": [
  {
   "metadata": {},
   "cell_type": "code",
   "source": [
    "import copy\n",
    "\n",
    "import numpy as np\n",
    "import matplotlib.pyplot as plt\n",
    "import pandas as pd"
   ],
   "id": "261653590a8c36a7",
   "outputs": [],
   "execution_count": null
  },
  {
   "metadata": {},
   "cell_type": "markdown",
   "source": "# Import the training set",
   "id": "51c2d31a06739601"
  },
  {
   "metadata": {},
   "cell_type": "code",
   "source": [
    "def read_training_set():\n",
    "    data = pd.read_csv(\"training_data.csv\")\n",
    "    X_train = data.drop('y', axis=1).values  # All columns except 'y' as features\n",
    "    Y_train = data['y'].values\n",
    "    # 'y' column as target\n",
    "    return X_train, Y_train"
   ],
   "id": "ddb47df43edeb1e3",
   "outputs": [],
   "execution_count": null
  },
  {
   "metadata": {},
   "cell_type": "markdown",
   "source": "## z-score normalization",
   "id": "33511397d462ac4"
  },
  {
   "metadata": {},
   "cell_type": "code",
   "source": [
    "def normalize(X):\n",
    "    mu = np.mean(X, axis=0)\n",
    "    sigma = np.std(X, axis=0)\n",
    "    X_norm = (X - mu) / sigma\n",
    "\n",
    "    return (X_norm, mu, sigma)"
   ],
   "id": "fc72b3176ade817e",
   "outputs": [],
   "execution_count": null
  },
  {
   "metadata": {},
   "cell_type": "markdown",
   "source": "### Model function",
   "id": "111e842381a8c13a"
  },
  {
   "metadata": {},
   "cell_type": "code",
   "source": [
    "def calculate_model(x, w, b):\n",
    "    return np.dot(x, w) + b"
   ],
   "id": "1441e8a5b7591214",
   "outputs": [],
   "execution_count": null
  },
  {
   "metadata": {},
   "cell_type": "markdown",
   "source": "### Cost function",
   "id": "fd51f700fa9a8f83"
  },
  {
   "metadata": {},
   "cell_type": "code",
   "source": [
    "def calculate_cost(w: np.array, b, x: np.array, y: np.array):\n",
    "    m = x.shape[0]\n",
    "    cost = 0.0\n",
    "    for i in range(m):\n",
    "        yh = calculate_model(x[i],w,b)\n",
    "        cost += (yh - y[i])**2\n",
    "    cost = cost / (2*m)\n",
    "    return cost"
   ],
   "id": "5871446e75d47ea6",
   "outputs": [],
   "execution_count": null
  },
  {
   "metadata": {},
   "cell_type": "markdown",
   "source": "### Compute Gradient",
   "id": "cad68aa33055049d"
  },
  {
   "metadata": {},
   "cell_type": "code",
   "source": [
    "def compute_gradient(w, b, x: np.array, y: np.array):\n",
    "    m, n = x.shape  # Fixed: removed parentheses\n",
    "    dj_dw = np.zeros((n,))\n",
    "    dj_db = 0  # Fixed: initialized dj_db\n",
    "\n",
    "    for i in range(m):\n",
    "        error = calculate_model(x[i], w, b) - y[i]\n",
    "        for j in range(n):\n",
    "            dj_dw[j] = dj_dw[j] + error * x[i, j]\n",
    "        dj_db = dj_db + error\n",
    "\n",
    "    dj_dw = dj_dw/m\n",
    "    dj_db = dj_db/m\n",
    "    return dj_dw, dj_db"
   ],
   "id": "e753188e6718ab22",
   "outputs": [],
   "execution_count": null
  },
  {
   "metadata": {},
   "cell_type": "markdown",
   "source": "# Gradient Descent",
   "id": "58a922cbd823bc79"
  },
  {
   "metadata": {},
   "cell_type": "code",
   "source": [
    "def gradient_descent(x, y, w_in, b_in, cost_function, gradient_function, alpha, num_iters, epsilon=1e-7):\n",
    "\n",
    "    w = copy.deepcopy(w_in)\n",
    "    b = b_in\n",
    "    J_hist = []\n",
    "    prev_cost = float('inf')\n",
    "\n",
    "    for i in range(num_iters):\n",
    "        dj_dw, dj_db = gradient_function(w, b, x, y)\n",
    "\n",
    "        w = w - alpha * dj_dw\n",
    "        b = b - alpha * dj_db\n",
    "\n",
    "        current_cost = cost_function(w, b, x, y)\n",
    "\n",
    "        if i % 100 == 0:\n",
    "            J_hist.append(current_cost)\n",
    "\n",
    "        if abs(prev_cost - current_cost) < epsilon:\n",
    "            return w, b, J_hist\n",
    "\n",
    "        prev_cost = current_cost\n",
    "\n",
    "    return w, b, J_hist"
   ],
   "id": "5278d52339339d0d",
   "outputs": [],
   "execution_count": null
  },
  {
   "metadata": {},
   "cell_type": "code",
   "source": [
    "X_train, y_train = read_training_set()\n",
    "X_train, mu, sigma = normalize(X_train)\n",
    "\n",
    "# initialize parameters\n",
    "w_init = np.zeros(X_train.shape[1])  # Fixed: initialize with correct shape\n",
    "initial_w = np.zeros_like(w_init)\n",
    "initial_b = 0.\n",
    "\n",
    "# some gradient descent settings\n",
    "iterations = 10000000\n",
    "alpha = 0.03\n",
    "epsilon = 1e-7\n",
    "\n",
    "# run gradient descent\n",
    "w_final, b_final, J_hist = gradient_descent(X_train, y_train, initial_w, initial_b,\n",
    "                                          calculate_cost, compute_gradient,\n",
    "                                          alpha, iterations, epsilon)\n",
    "print(f\"b,w found by gradient descent: {b_final:0.2f},{w_final} \")\n",
    "\n",
    "\n",
    "\n",
    "# Plot cost vs iteration\n",
    "# Plot cost vs iteration\n",
    "plt.figure(figsize=(10, 6))\n",
    "iterations_per_point = 100\n",
    "iterations_completed = len(J_hist) * iterations_per_point\n",
    "x_values = range(0, iterations_completed, iterations_per_point)\n",
    "plt.plot(x_values, J_hist)\n",
    "plt.xlabel(\"Iteration\")\n",
    "plt.ylabel(\"Cost\")\n",
    "plt.title(\"Cost History During Gradient Descent\")\n",
    "plt.grid(True)\n",
    "plt.show()"
   ],
   "id": "ee75600938d28613",
   "outputs": [],
   "execution_count": null
  }
 ],
 "metadata": {
  "kernelspec": {
   "display_name": "Python 3",
   "language": "python",
   "name": "python3"
  },
  "language_info": {
   "codemirror_mode": {
    "name": "ipython",
    "version": 2
   },
   "file_extension": ".py",
   "mimetype": "text/x-python",
   "name": "python",
   "nbconvert_exporter": "python",
   "pygments_lexer": "ipython2",
   "version": "2.7.6"
  }
 },
 "nbformat": 4,
 "nbformat_minor": 5
}
