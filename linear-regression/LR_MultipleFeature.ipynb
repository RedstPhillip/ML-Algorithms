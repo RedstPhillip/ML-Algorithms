{
 "cells": [
  {
   "metadata": {},
   "cell_type": "code",
   "source": [
    "import numpy as np\n",
    "import matplotlib.pyplot as plt\n",
    "import pandas as pd"
   ],
   "id": "261653590a8c36a7",
   "outputs": [],
   "execution_count": null
  },
  {
   "metadata": {},
   "cell_type": "markdown",
   "source": "# Import the training set",
   "id": "51c2d31a06739601"
  },
  {
   "metadata": {},
   "cell_type": "code",
   "source": [
    "def read_training_set():\n",
    "    data = np.loadtxt('training_data.csv', delimiter=',', skiprows=1)\n",
    "    x, y = data[:, :-1], data[:, -1]\n",
    "    return x, y"
   ],
   "id": "ddb47df43edeb1e3",
   "outputs": [],
   "execution_count": null
  },
  {
   "metadata": {},
   "cell_type": "markdown",
   "source": "### Model function",
   "id": "111e842381a8c13a"
  },
  {
   "metadata": {},
   "cell_type": "code",
   "outputs": [],
   "execution_count": null,
   "source": [
    "def calculate_model(x, w, b):\n",
    "    return np.dot(x, w) + b"
   ],
   "id": "1441e8a5b7591214"
  },
  {
   "metadata": {},
   "cell_type": "markdown",
   "source": "### Cost function",
   "id": "fd51f700fa9a8f83"
  },
  {
   "metadata": {},
   "cell_type": "code",
   "outputs": [],
   "execution_count": null,
   "source": [
    "def calculate_cost(w, b, x: np.array, y: np.array):\n",
    "    m = x.shape[0]\n",
    "    cost = 0.0\n",
    "    for i in range(m):\n",
    "        yh = calculate_model(x[i],w,b)\n",
    "        cost += (yh - y[i])**2\n",
    "    cost = cost / (2*m)\n",
    "    return cost"
   ],
   "id": "5871446e75d47ea6"
  },
  {
   "metadata": {},
   "cell_type": "markdown",
   "source": "### Compute Gradient",
   "id": "cad68aa33055049d"
  },
  {
   "metadata": {},
   "cell_type": "code",
   "outputs": [],
   "execution_count": null,
   "source": [
    "def compute_gradient(w, b, x: np.array, y: np.array):\n",
    "    "
   ],
   "id": "e753188e6718ab22"
  }
 ],
 "metadata": {
  "kernelspec": {
   "display_name": "Python 3",
   "language": "python",
   "name": "python3"
  },
  "language_info": {
   "codemirror_mode": {
    "name": "ipython",
    "version": 2
   },
   "file_extension": ".py",
   "mimetype": "text/x-python",
   "name": "python",
   "nbconvert_exporter": "python",
   "pygments_lexer": "ipython2",
   "version": "2.7.6"
  }
 },
 "nbformat": 4,
 "nbformat_minor": 5
}
