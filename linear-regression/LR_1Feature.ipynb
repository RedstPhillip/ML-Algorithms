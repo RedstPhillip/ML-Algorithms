{
 "cells": [
  {
   "cell_type": "code",
   "id": "initial_id",
   "metadata": {},
   "source": [
    "import numpy as np\n",
    "import matplotlib.pyplot as plt\n",
    "import pandas as pd"
   ],
   "outputs": [],
   "execution_count": null
  },
  {
   "cell_type": "markdown",
   "id": "f78e53831f850de1",
   "metadata": {},
   "source": [
    "### Reading the Training Set\n",
    "Reading the training set from files or from static arrays."
   ]
  },
  {
   "cell_type": "code",
   "id": "d29000baf8ada91c",
   "metadata": {},
   "source": [
    "def read_training_set():\n",
    "    data = pd.read_csv(\"training_data.csv\")\n",
    "    x = data['x1'].values\n",
    "    y = data['y'].values\n",
    "    return x, y"
   ],
   "outputs": [],
   "execution_count": null
  },
  {
   "cell_type": "markdown",
   "id": "fbe95fddc8761526",
   "metadata": {},
   "source": [
    "### Model Function\n",
    "Calcualtes the output from the current model with the parameters w and b that are passed as parameters."
   ]
  },
  {
   "cell_type": "code",
   "id": "519ba2835ef3cca",
   "metadata": {},
   "source": [
    "def calculate_model(x :float, w, b) -> float:\n",
    "    return w * x + b"
   ],
   "outputs": [],
   "execution_count": null
  },
  {
   "cell_type": "markdown",
   "id": "f4cd5ee906231f2d",
   "metadata": {},
   "source": [
    "### Cost Function"
   ]
  },
  {
   "cell_type": "code",
   "id": "a3da02418ffbbb31",
   "metadata": {},
   "source": [
    "def calculate_cost(w, b, x :np.array, y : np.array):\n",
    "    cost = 0\n",
    "    m = x.shape[0]\n",
    "\n",
    "\n",
    "    for i in range(len(x)):\n",
    "        cost += (calculate_model(x[i], w, b) - y[i])**2\n",
    "\n",
    "    cost = cost / (2*m)\n",
    "\n",
    "    return cost"
   ],
   "outputs": [],
   "execution_count": null
  },
  {
   "cell_type": "markdown",
   "id": "6b7b0b5010525ccd",
   "metadata": {},
   "source": [
    "### Compute Gradient\n",
    "Computes the gradient dj_dw and dj_db"
   ]
  },
  {
   "cell_type": "code",
   "id": "81312d58f02410df",
   "metadata": {},
   "source": [
    "def compute_gradient(x :np.array, y :np.array, w, b):\n",
    "    m = x.shape[0]\n",
    "    dj_dw = 0\n",
    "    dj_db = 0\n",
    "\n",
    "    for i in range(len(x)):\n",
    "        dj_dw += (calculate_model(x[i], w, b) - y[i]) * x[i]\n",
    "        dj_db += (calculate_model(x[i], w, b) - y[i])\n",
    "\n",
    "    dj_dw = dj_dw / m\n",
    "    dj_db = dj_db / m\n",
    "    return dj_dw, dj_db"
   ],
   "outputs": [],
   "execution_count": null
  },
  {
   "cell_type": "markdown",
   "id": "4758e785068d97e8",
   "metadata": {},
   "source": [
    "### Gradient Descent"
   ]
  },
  {
   "cell_type": "code",
   "id": "4c3378bd28c8b19b",
   "metadata": {},
   "source": [
    "def gradient_descent(x: np.array, y: np.array, w, b, num_iterations, alpha, cost_function, gradient_function):\n",
    "    cost_history = []\n",
    "    for i in range(num_iterations):\n",
    "        dj_dw, dj_db = gradient_function(x, y, w, b)\n",
    "        w = w - alpha * dj_dw\n",
    "        b = b - alpha * dj_db\n",
    "        cost = cost_function(w, b, x, y)\n",
    "        cost_history.append(cost)\n",
    "        if i % 1 == 10000:\n",
    "            print(f\"Iteration {i}, Cost: {cost}\")\n",
    "    return w, b, cost_history"
   ],
   "outputs": [],
   "execution_count": null
  },
  {
   "cell_type": "markdown",
   "id": "aa7374f7368b6cae",
   "metadata": {},
   "source": [
    "### Training the model"
   ]
  },
  {
   "cell_type": "code",
   "id": "8241d9d02cbbcfae",
   "metadata": {},
   "source": [
    "x, y = read_training_set()\n",
    "num_iterations = 1000\n",
    "alpha = 0.03\n",
    "def_w = 0\n",
    "def_b = 0\n",
    "w, b, cost_history = gradient_descent(x, y, def_w, def_b, num_iterations, alpha, calculate_cost, compute_gradient)\n",
    "print(f\"w:{w} | b:{b} | Final Cost:{calculate_cost(w,b,x,y)}\")\n",
    "\n",
    "\n",
    "# Plot cost graph\n",
    "plt.figure(figsize=(12, 5))\n",
    "plt.subplot(1, 2, 1)\n",
    "plt.plot(cost_history)\n",
    "plt.xlabel(\"Iteration\")\n",
    "plt.ylabel(\"Cost\")\n",
    "plt.title(\"Cost Function vs. Iterations\")\n",
    "\n",
    "# Plot training examples and final model\n",
    "plt.subplot(1, 2, 2)\n",
    "plt.scatter(x, y, color='blue', label='Training Examples')\n",
    "model_y = calculate_model(x, w, b)\n",
    "plt.plot(x, model_y, color='red', label=f'Trained Model: y = {w:.2f}x + {b:.2f}')\n",
    "plt.xlabel(\"x\")\n",
    "plt.ylabel(\"y\")\n",
    "plt.title(\"Training Examples and Trained Model\")\n",
    "plt.legend()\n",
    "\n",
    "plt.tight_layout()\n",
    "plt.show()"
   ],
   "outputs": [],
   "execution_count": null
  }
 ],
 "metadata": {
  "kernelspec": {
   "display_name": "Python 3 (ipykernel)",
   "language": "python",
   "name": "python3"
  },
  "language_info": {
   "codemirror_mode": {
    "name": "ipython",
    "version": 3
   },
   "file_extension": ".py",
   "mimetype": "text/x-python",
   "name": "python",
   "nbconvert_exporter": "python",
   "pygments_lexer": "ipython3",
   "version": "3.12.4"
  }
 },
 "nbformat": 4,
 "nbformat_minor": 5
}
