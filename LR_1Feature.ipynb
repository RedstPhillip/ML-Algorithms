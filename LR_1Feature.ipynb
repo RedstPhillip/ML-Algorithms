{
 "cells": [
  {
   "cell_type": "code",
   "execution_count": 1,
   "id": "initial_id",
   "metadata": {
    "ExecuteTime": {
     "end_time": "2025-01-10T12:07:55.564930Z",
     "start_time": "2025-01-10T12:07:55.472114Z"
    }
   },
   "outputs": [],
   "source": [
    "import numpy as np"
   ]
  },
  {
   "cell_type": "markdown",
   "id": "f78e53831f850de1",
   "metadata": {},
   "source": [
    "### Reading the Training Set\n",
    "Reading the training set from files or from static arrays."
   ]
  },
  {
   "cell_type": "code",
   "execution_count": 2,
   "id": "d29000baf8ada91c",
   "metadata": {
    "ExecuteTime": {
     "end_time": "2025-01-10T12:07:55.578517Z",
     "start_time": "2025-01-10T12:07:55.573947Z"
    }
   },
   "outputs": [],
   "source": [
    "def read_training_set():\n",
    "    x = np.array[1.0, 2.0, 3.0, 4.0, 5.0, 6.0, 7.0, 8.0, 9.0]\n",
    "    y = np.array[1.0, 2.0, 3.0, 4.0, 5.0, 6.0, 7.0, 8.0, 9.0]\n",
    "    return x, y"
   ]
  },
  {
   "cell_type": "markdown",
   "id": "fbe95fddc8761526",
   "metadata": {},
   "source": [
    "### Model Function\n",
    "Calcualtes the output from the current model with the parameters w and b that are passed as parameters."
   ]
  },
  {
   "cell_type": "code",
   "execution_count": 3,
   "id": "519ba2835ef3cca",
   "metadata": {
    "ExecuteTime": {
     "end_time": "2025-01-10T12:07:55.591138Z",
     "start_time": "2025-01-10T12:07:55.587612Z"
    }
   },
   "outputs": [],
   "source": [
    "def calculate_model(x :float, w, b) -> float:\n",
    "    return w * x + b"
   ]
  },
  {
   "cell_type": "markdown",
   "id": "f4cd5ee906231f2d",
   "metadata": {},
   "source": [
    "### Cost Function"
   ]
  },
  {
   "cell_type": "code",
   "execution_count": 4,
   "id": "a3da02418ffbbb31",
   "metadata": {
    "ExecuteTime": {
     "end_time": "2025-01-10T12:07:55.606665Z",
     "start_time": "2025-01-10T12:07:55.598017Z"
    }
   },
   "outputs": [],
   "source": [
    "def calculate_cost(w, b, x :np.array, y : np.array):\n",
    "    cost = 0\n",
    "    m = x.shape()\n",
    "\n",
    "\n",
    "    for i in len(x):\n",
    "        cost += (calculate_model(x[i], w, b) - y[i])**2\n",
    "\n",
    "    cost = cost / (1/2*m)\n",
    "\n",
    "    return cost"
   ]
  },
  {
   "cell_type": "markdown",
   "id": "6b7b0b5010525ccd",
   "metadata": {},
   "source": [
    "### Compute Gradient\n",
    "Computes the gradient dj_dw and dj_db"
   ]
  },
  {
   "cell_type": "code",
   "execution_count": 5,
   "id": "81312d58f02410df",
   "metadata": {
    "ExecuteTime": {
     "end_time": "2025-01-10T12:09:46.785522Z",
     "start_time": "2025-01-10T12:09:46.781026Z"
    }
   },
   "outputs": [],
   "source": [
    "def compute_gradient(x :np.array, y :np.array, w, b):\n",
    "    m = x.shape()\n",
    "    dj_dw = 0\n",
    "    dj_db = 0\n",
    "\n",
    "    for i in len(x):\n",
    "        dj_dw += (calculate_model(x[i], w, b) - y[i]) * x[i]\n",
    "        dj_db += (calculate_model(x[i], w, b) - y[i])\n",
    "\n",
    "    dj_dw = dj_dw / m\n",
    "    dj_db = dj_db / m\n",
    "    return dj_dw, dj_db"
   ]
  },
  {
   "cell_type": "markdown",
   "id": "4758e785068d97e8",
   "metadata": {},
   "source": [
    "### Gradient Descent"
   ]
  },
  {
   "cell_type": "code",
   "execution_count": 6,
   "id": "4c3378bd28c8b19b",
   "metadata": {
    "ExecuteTime": {
     "end_time": "2025-01-10T12:07:55.902633Z",
     "start_time": "2025-01-10T12:07:55.898060Z"
    }
   },
   "outputs": [],
   "source": [
    "def gradient_descent(x :np.array, y :np.array, w, b, num_iterations, alpha, cost_function, gradient_function):\n",
    "    for i in range(num_iterations):\n",
    "        dj_dw, dj_db = gradient_function(x, y, w, b)\n",
    "        w = w - alpha * dj_dw\n",
    "        b = b - alpha * dj_db\n",
    "        print(calculate_cost(w,b,x,y))\n",
    "\n",
    "    return w, b"
   ]
  },
  {
   "cell_type": "markdown",
   "id": "aa7374f7368b6cae",
   "metadata": {},
   "source": [
    "### Training the model"
   ]
  },
  {
   "cell_type": "code",
   "execution_count": 7,
   "id": "8241d9d02cbbcfae",
   "metadata": {
    "ExecuteTime": {
     "end_time": "2025-01-10T12:07:55.912030Z",
     "start_time": "2025-01-10T12:07:55.907651Z"
    }
   },
   "outputs": [],
   "source": [
    "def train_model():\n",
    "    x, y = read_training_set()\n",
    "    num_iterations = 10000\n",
    "    alpha = 0.01\n",
    "    def_w = -0.4525\n",
    "    def_b = -50000\n",
    "    w, b = gradient_descent(x, y, def_w, def_b, num_iterations, alpha, calculate_cost(), compute_gradient())\n",
    "    print(f\"w:{w} | b:{b} | Final Cost:{calculate_cost(w,b,x,y)}\")\n",
    "    return w,b"
   ]
  },
  {
   "cell_type": "code",
   "execution_count": null,
   "id": "42047eea-9123-4b2e-b8e6-43afbd40af1b",
   "metadata": {},
   "outputs": [],
   "source": []
  }
 ],
 "metadata": {
  "kernelspec": {
   "display_name": "Python 3 (ipykernel)",
   "language": "python",
   "name": "python3"
  },
  "language_info": {
   "codemirror_mode": {
    "name": "ipython",
    "version": 3
   },
   "file_extension": ".py",
   "mimetype": "text/x-python",
   "name": "python",
   "nbconvert_exporter": "python",
   "pygments_lexer": "ipython3",
   "version": "3.12.4"
  }
 },
 "nbformat": 4,
 "nbformat_minor": 5
}
